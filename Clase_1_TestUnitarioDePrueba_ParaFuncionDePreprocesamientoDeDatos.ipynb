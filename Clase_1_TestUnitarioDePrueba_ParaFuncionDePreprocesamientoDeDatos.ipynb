{
 "cells": [
  {
   "cell_type": "markdown",
   "metadata": {},
   "source": [
    "TEST UNITARIO DE PRUEBA PARA UNA FUNCION DE PREPROCESAMIENTO DE DATOS"
   ]
  },
  {
   "cell_type": "code",
   "execution_count": null,
   "metadata": {},
   "outputs": [],
   "source": [
    "#Una prueba unitaria verifica partes individuales de todo el codigo fuente de mi modelo. Me aseguro que el codigo funcione correctamente.\n",
    "#El objetivo de la prueba es comprobar que cada parte del codigo devuelve lo que yo quiero que devuelva."
   ]
  },
  {
   "cell_type": "code",
   "execution_count": 2,
   "metadata": {},
   "outputs": [],
   "source": [
    "import pandas as pd\n",
    "import unittest"
   ]
  },
  {
   "cell_type": "code",
   "execution_count": null,
   "metadata": {},
   "outputs": [],
   "source": [
    "#El codigo que quiero probar es el siguiente"
   ]
  },
  {
   "cell_type": "code",
   "execution_count": null,
   "metadata": {},
   "outputs": [],
   "source": [
    "def calcular_promedio(df, columna):\n",
    "    return df[columna].mean()\n",
    "#A la funcion que defino le paso un dataframe y una columna, y me va a calcular el promedio de eso"
   ]
  },
  {
   "cell_type": "code",
   "execution_count": null,
   "metadata": {},
   "outputs": [],
   "source": [
    "#Creo el test unitario"
   ]
  },
  {
   "cell_type": "code",
   "execution_count": null,
   "metadata": {},
   "outputs": [],
   "source": [
    "class TestPreprocesamiento(unittest.TestCase):\n",
    "    def test_calcular_promedio(self):\n",
    "        data = pd.DataFrame({'edad' : [20, 30, 40]})\n",
    "        self.assertEqual(calcular_promedio(data, 'edad'), 30)\n",
    "#Primero creo una clase. De uniteest utilizo el modulo TestCase. Dentro de la clase creo una funcion que es la que va a hacer la prueba del metodo que\n",
    "#quiero probar. Creo un dataframe para la prueba, que recibe un diccionario con edades. Utilizo la funcion booleana assertEqual, que al llamar la funcion\n",
    "#que yo quiero probar que se llama calcular promedio, y pasarle a esa funcion como dataframe a data, y decirle que la columna que quiero es edad,\n",
    "#entonces quiero que el resultado sea 30"
   ]
  },
  {
   "cell_type": "code",
   "execution_count": null,
   "metadata": {},
   "outputs": [],
   "source": [
    "def ejecutar_prueba():\n",
    "    probador = unittest.TestLoader().loadTestsFromTestCase(TestPreprocesamiento)\n",
    "    unittest.TextTestRunner().run(probador) \n",
    "#creo el metodo ejecutar prueba, de unittest usamos un modulo que nos permita cargar la prueba y llamamos la clase TestPreprocesamiento.\n",
    "#Luego corremos la prueba en esa misma funcion, con textestrunner le decimos que queremos que nos devuelva algo en formato texto. "
   ]
  },
  {
   "cell_type": "code",
   "execution_count": null,
   "metadata": {},
   "outputs": [
    {
     "name": "stderr",
     "output_type": "stream",
     "text": [
      ".\n",
      "----------------------------------------------------------------------\n",
      "Ran 1 test in 0.028s\n",
      "\n",
      "OK\n"
     ]
    }
   ],
   "source": [
    "ejecutar_prueba()\n",
    "#Si la funcion pasa la prueba nos dice que esta OK. Osea que la funcion calcula el promedio de la columna en un dataframe."
   ]
  }
 ],
 "metadata": {
  "kernelspec": {
   "display_name": "Python 3",
   "language": "python",
   "name": "python3"
  },
  "language_info": {
   "codemirror_mode": {
    "name": "ipython",
    "version": 3
   },
   "file_extension": ".py",
   "mimetype": "text/x-python",
   "name": "python",
   "nbconvert_exporter": "python",
   "pygments_lexer": "ipython3",
   "version": "3.12.2"
  }
 },
 "nbformat": 4,
 "nbformat_minor": 2
}
