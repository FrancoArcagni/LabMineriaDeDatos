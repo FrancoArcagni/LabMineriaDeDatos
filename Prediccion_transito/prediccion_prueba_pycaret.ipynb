{
 "cells": [
  {
   "cell_type": "code",
   "execution_count": 1,
   "id": "f05bbfaf",
   "metadata": {},
   "outputs": [],
   "source": [
    "import pandas as pd\n",
    "from pycaret.regression import *"
   ]
  },
  {
   "cell_type": "code",
   "execution_count": 4,
   "id": "d25d324b",
   "metadata": {},
   "outputs": [
    {
     "name": "stdout",
     "output_type": "stream",
     "text": [
      "Transformation Pipeline and Model Successfully Loaded\n"
     ]
    }
   ],
   "source": [
    "model = load_model(model_name = 'C:/Users/franc/OneDrive/Documentos/ISTEA/1er cuatrimestre 2025 - 4to de carrera/Laboratorio de mineria de datos/prueba_pycaret.pkl')"
   ]
  },
  {
   "cell_type": "code",
   "execution_count": 6,
   "id": "c642572a",
   "metadata": {},
   "outputs": [],
   "source": [
    "#Utilizamos pandas para crear datos que utilizaremos para que el modelo prediga la variable objetivo, en este caso trafic volume\n",
    "new_data = [[None, 290.13, 0.0, 0.0, 90, 'Clouds', 0], [None, 100.13, 0.0, 0.0, 50, 'Clouds', 0]]"
   ]
  },
  {
   "cell_type": "code",
   "execution_count": 7,
   "id": "b5cbaa0f",
   "metadata": {},
   "outputs": [],
   "source": [
    "new_data = pd.DataFrame(new_data, columns = ['holiday', 'temp', 'rain_1h', 'snow_1h', 'clouds_all', 'weather_main', 'Rush Hour'])"
   ]
  },
  {
   "cell_type": "code",
   "execution_count": 8,
   "id": "5190957d",
   "metadata": {},
   "outputs": [
    {
     "name": "stdout",
     "output_type": "stream",
     "text": [
      "  holiday        temp  rain_1h  snow_1h  clouds_all weather_main  Rush Hour  \\\n",
      "0     NaN  290.130005      0.0      0.0          90       Clouds          0   \n",
      "1     NaN  100.129997      0.0      0.0          50       Clouds          0   \n",
      "\n",
      "   prediction_label  \n",
      "0       3210.764667  \n",
      "1       2407.212643  \n"
     ]
    }
   ],
   "source": [
    "#Ya tenemos cargado el modelo y con la funcion predict.model vamos a predecir el resultado con la data que creamos con pandas arriba\n",
    "new_prediction = predict_model(model, data = new_data)\n",
    "print(new_prediction)\n",
    "#El resultado de la prediccion lo guardamos en una variable y lo imprimimos"
   ]
  }
 ],
 "metadata": {
  "kernelspec": {
   "display_name": "base",
   "language": "python",
   "name": "python3"
  },
  "language_info": {
   "codemirror_mode": {
    "name": "ipython",
    "version": 3
   },
   "file_extension": ".py",
   "mimetype": "text/x-python",
   "name": "python",
   "nbconvert_exporter": "python",
   "pygments_lexer": "ipython3",
   "version": "3.11.7"
  }
 },
 "nbformat": 4,
 "nbformat_minor": 5
}
